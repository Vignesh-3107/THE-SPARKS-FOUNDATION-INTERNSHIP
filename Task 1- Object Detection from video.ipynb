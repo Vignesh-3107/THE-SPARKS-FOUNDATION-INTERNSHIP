{
 "cells": [
  {
   "cell_type": "markdown",
   "id": "460090cb",
   "metadata": {},
   "source": [
    "#                               #GRIPAUGUST21\n",
    "\n",
    "#                          The Sparks Foundation\n",
    "\n",
    "#                        Task - 01 Object Detection (Video)\n",
    "\n",
    "##                               Submitted by - VIGNESH C"
   ]
  },
  {
   "cell_type": "code",
   "execution_count": null,
   "id": "71bad145",
   "metadata": {},
   "outputs": [],
   "source": [
    "import warnings\n",
    "warnings.filterwarnings('ignore')"
   ]
  },
  {
   "cell_type": "code",
   "execution_count": null,
   "id": "df0cc9f1",
   "metadata": {},
   "outputs": [],
   "source": [
    "import cv2 \n",
    "import matplotlib.pyplot as plt"
   ]
  },
  {
   "cell_type": "code",
   "execution_count": null,
   "id": "e226c26c",
   "metadata": {},
   "outputs": [],
   "source": [
    "configFile = r'ssd_mobilenet_v3_large_coco_2020_01_14.pbtxt.txt'\n",
    "frozenModel = r'frozen_inference_graph.pb'\n",
    "model = cv2.dnn_DetectionModel(frozenModel,configFile)"
   ]
  },
  {
   "cell_type": "code",
   "execution_count": null,
   "id": "d38e5531",
   "metadata": {},
   "outputs": [],
   "source": [
    "classFile = r'coco.names.txt'\n",
    "classNames = []\n",
    "with open(classFile, 'rt') as f:\n",
    "    classNames = f.read().rstrip('\\n').split('\\n')\n",
    "print(classNames, len(classNames)) #classNames ==> Contains all the 80 classes from the coco dataset"
   ]
  },
  {
   "cell_type": "code",
   "execution_count": null,
   "id": "6eb0859e",
   "metadata": {},
   "outputs": [],
   "source": [
    "model.setInputSize(320,320)\n",
    "model.setInputScale(1.0/127.5)\n",
    "model.setInputMean((127.5,127.5,127.5))\n",
    "model.setInputSwapRB(True)"
   ]
  },
  {
   "cell_type": "code",
   "execution_count": null,
   "id": "113b2aaa",
   "metadata": {},
   "outputs": [],
   "source": [
    "cap = cv2.VideoCapture(r'traffic_rules_miniclip.mp4')\n",
    "#cap = cv2.VideoCapture(0) #==> webcam\n",
    "if not cap.isOpened():\n",
    "    raise IOError(\"Cannot Open Video\")\n",
    "\n",
    "\n",
    "#Setting the font scale and font style\n",
    "\n",
    "font_scale = 1.1\n",
    "font = cv2.FONT_HERSHEY_COMPLEX\n",
    "# Reading each frame and detecting the objects in it\n",
    "\n",
    "while True:\n",
    "    ret,frame = cap.read()\n",
    "    ClassIndex, confidence, bbox = model.detect(frame,confThreshold=0.62)\n",
    "    if len(ClassIndex)!= 0:\n",
    "        for ClassInd,conf,boxes in zip(ClassIndex.flatten(),confidence.flatten(),bbox):\n",
    "            if ClassInd <= 80:\n",
    "                cv2.rectangle(frame,boxes,(255,0,0),2)\n",
    "                cv2.putText(frame,classNames[ClassInd-1],(boxes[0]+10,boxes[1]+40),font, fontScale=font_scale, color = (0,255,0),thickness = 3)\n",
    "    cv2.imshow(\"output\",frame)\n",
    "    if cv2.waitKey(2) & 0xFF == 27:\n",
    "        break  #breaks out of the loop as soon as we press 'esc' from our keyboard\n",
    "cap.release()\n",
    "cv2.destroyAllWindows()\n"
   ]
  },
  {
   "cell_type": "code",
   "execution_count": null,
   "id": "82de59e9",
   "metadata": {},
   "outputs": [],
   "source": []
  }
 ],
 "metadata": {
  "kernelspec": {
   "display_name": "Python 3",
   "language": "python",
   "name": "python3"
  },
  "language_info": {
   "codemirror_mode": {
    "name": "ipython",
    "version": 3
   },
   "file_extension": ".py",
   "mimetype": "text/x-python",
   "name": "python",
   "nbconvert_exporter": "python",
   "pygments_lexer": "ipython3",
   "version": "3.8.8"
  }
 },
 "nbformat": 4,
 "nbformat_minor": 5
}
