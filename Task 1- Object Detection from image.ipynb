{
 "cells": [
  {
   "cell_type": "markdown",
   "id": "901f38cb",
   "metadata": {},
   "source": [
    "#                               #GRIPAUGUST21\n",
    "\n",
    "#                          The Sparks Foundation\n",
    "\n",
    "#                        Task - 01 Object Detection \n",
    "\n",
    "##                              Submitted by - VIGNESH C"
   ]
  },
  {
   "cell_type": "markdown",
   "id": "eec57ba0",
   "metadata": {},
   "source": [
    "### Importing Libraries"
   ]
  },
  {
   "cell_type": "code",
   "execution_count": 1,
   "id": "71bad145",
   "metadata": {},
   "outputs": [],
   "source": [
    "import warnings\n",
    "warnings.filterwarnings('ignore')"
   ]
  },
  {
   "cell_type": "code",
   "execution_count": 2,
   "id": "df0cc9f1",
   "metadata": {},
   "outputs": [],
   "source": [
    "import cv2 \n",
    "import matplotlib.pyplot as plt"
   ]
  },
  {
   "cell_type": "code",
   "execution_count": 3,
   "id": "e226c26c",
   "metadata": {},
   "outputs": [],
   "source": [
    "configFile = r'ssd_mobilenet_v3_large_coco_2020_01_14.pbtxt.txt'\n",
    "frozenModel = r'frozen_inference_graph.pb'\n",
    "model = cv2.dnn_DetectionModel(frozenModel,configFile)"
   ]
  },
  {
   "cell_type": "code",
   "execution_count": 4,
   "id": "d38e5531",
   "metadata": {},
   "outputs": [
    {
     "name": "stdout",
     "output_type": "stream",
     "text": [
      "['person', 'bicycle', 'car', 'motorbike', 'aeroplane', 'bus', 'train', 'truck', 'boat', 'traffic light', 'fire hydrant', 'stop sign', 'parking meter', 'bench', 'bird', 'cat', 'dog', 'horse', 'sheep', 'cow', 'elephant', 'bear', 'zebra', 'giraffe', 'backpack', 'umbrella', 'handbag', 'tie', 'suitcase', 'frisbee', 'skis', 'snowboard', 'sports ball', 'kite', 'baseball bat', 'baseball glove', 'skateboard', 'surfboard', 'tennis racket', 'bottle', 'wine glass', 'cup', 'fork', 'knife', 'spoon', 'bowl', 'banana', 'apple', 'sandwich', 'orange', 'broccoli', 'carrot', 'hot dog', 'pizza', 'donut', 'cake', 'chair', 'sofa', 'pottedplant', 'bed', 'diningtable', 'toilet', 'tvmonitor', 'laptop', 'mouse', 'remote', 'keyboard', 'cell phone', 'microwave', 'oven', 'toaster', 'sink', 'refrigerator', 'book', 'clock', 'vase', 'scissors', 'teddy bear', 'hair drier', 'toothbrush'] 80\n"
     ]
    }
   ],
   "source": [
    "classFile = r'coco.names.txt'\n",
    "classNames = []\n",
    "with open(classFile, 'rt') as f:\n",
    "    classNames = f.read().rstrip('\\n').split('\\n')\n",
    "print(classNames, len(classNames))"
   ]
  },
  {
   "cell_type": "code",
   "execution_count": 5,
   "id": "6eb0859e",
   "metadata": {},
   "outputs": [
    {
     "data": {
      "text/plain": [
       "<dnn_Model 0000023241D19790>"
      ]
     },
     "execution_count": 5,
     "metadata": {},
     "output_type": "execute_result"
    }
   ],
   "source": [
    "model.setInputSize(320,320)\n",
    "model.setInputScale(1.0/127.5)\n",
    "model.setInputMean((127.5,127.5,127.5))\n",
    "model.setInputSwapRB(True)"
   ]
  },
  {
   "cell_type": "markdown",
   "id": "728fc7db",
   "metadata": {},
   "source": [
    "### Displaying Output "
   ]
  },
  {
   "cell_type": "code",
   "execution_count": 6,
   "id": "113b2aaa",
   "metadata": {},
   "outputs": [],
   "source": [
    "img = cv2.imread(r'test_3.jfif')\n",
    "img=cv2.resize(img,(800,700))\n",
    "rgb = cv2.cvtColor(img, cv2.COLOR_BGR2RGB)\n",
    "font_scale = 1.1\n",
    "font = cv2.FONT_HERSHEY_COMPLEX\n",
    "ClassIndex, confidence, bbox = model.detect(rgb,confThreshold=0.62)\n",
    "if len(ClassIndex)!= 0:\n",
    "    for ClassInd,conf,boxes in zip(ClassIndex.flatten(),confidence.flatten(),bbox):\n",
    "        if ClassInd <= 80:\n",
    "            cv2.rectangle(img,boxes,(255,0,0),2)\n",
    "            cv2.putText(img,classNames[ClassInd-1],(boxes[0]+10,boxes[1]+40),font, fontScale=font_scale, color = (0,255,0),thickness = 3)\n",
    "    cv2.imshow(\"output\",img)\n",
    "if cv2.waitKey(20) & 0xFF == 27:\n",
    "    cv2.destroyAllWindows()"
   ]
  },
  {
   "cell_type": "code",
   "execution_count": null,
   "id": "656d18b4",
   "metadata": {},
   "outputs": [],
   "source": []
  }
 ],
 "metadata": {
  "kernelspec": {
   "display_name": "Python 3",
   "language": "python",
   "name": "python3"
  },
  "language_info": {
   "codemirror_mode": {
    "name": "ipython",
    "version": 3
   },
   "file_extension": ".py",
   "mimetype": "text/x-python",
   "name": "python",
   "nbconvert_exporter": "python",
   "pygments_lexer": "ipython3",
   "version": "3.8.8"
  }
 },
 "nbformat": 4,
 "nbformat_minor": 5
}
