{
 "cells": [
  {
   "cell_type": "markdown",
   "id": "8a713893",
   "metadata": {},
   "source": [
    "#                                            #GRIPAUGUST21\n",
    "\n",
    "#                                         The Sparks Foundation\n",
    "\n",
    "#                                  Task 04 - Detection of Face Mask\n",
    "   \n",
    "##                                                Submitted by: VIGNESH C\n",
    " "
   ]
  },
  {
   "cell_type": "markdown",
   "id": "a4e8845f",
   "metadata": {},
   "source": [
    "### Importing Libraries"
   ]
  },
  {
   "cell_type": "code",
   "execution_count": null,
   "id": "4b0310cd",
   "metadata": {},
   "outputs": [],
   "source": [
    "from tensorflow.keras.applications.mobilenet_v2 import preprocess_input\n",
    "from tensorflow.keras.preprocessing.image import img_to_array\n",
    "from tensorflow.keras.models import load_model\n",
    "from imutils.video import VideoStream\n",
    "import numpy as np\n",
    "import imutils\n",
    "import time\n",
    "import cv2\n",
    "import os"
   ]
  },
  {
   "cell_type": "code",
   "execution_count": null,
   "id": "8d3adcbd",
   "metadata": {},
   "outputs": [],
   "source": [
    "def detect_and_predict_mask(frame, faceNet, maskNet):\n",
    "\n",
    "    (h, w) = frame.shape[:2]\n",
    "    blob = cv2.dnn.blobFromImage(frame, 1.0, (224, 224),(104.0, 177.0, 123.0))\n",
    "    faceNet.setInput(blob)\n",
    "    detections = faceNet.forward()\n",
    "    print(detections.shape)\n",
    "\n",
    "    faces = []\n",
    "    locs = []\n",
    "    preds = []\n",
    "\n",
    "\n",
    "    for i in range(0, detections.shape[2]):\n",
    "\n",
    "        confidence = detections[0, 0, i, 2]\n",
    "\n",
    "        if confidence > 0.5:\n",
    "\n",
    "             box = detections[0, 0, i, 3:7] * np.array([w, h, w, h])\n",
    "             (startX, startY, endX, endY) = box.astype(\"int\")\n",
    "             (startX, startY) = (max(0, startX), max(0, startY))\n",
    "             (endX, endY) = (min(w - 1, endX), min(h - 1, endY))\n",
    " \n",
    " \n",
    "             face = frame[startY:endY, startX:endX]\n",
    "             face = cv2.cvtColor(face, cv2.COLOR_BGR2RGB)\n",
    "             face = cv2.resize(face, (224, 224))\n",
    "             face = img_to_array(face)\n",
    "             face = preprocess_input(face)\n",
    "\n",
    "             faces.append(face)\n",
    "             locs.append((startX, startY, endX, endY))\n",
    "\n",
    "    if len(faces) > 0:\n",
    "\n",
    "        faces = np.array(faces, dtype=\"float32\")\n",
    "        preds = maskNet.predict(faces, batch_size=32)\n",
    "    return (locs, preds)"
   ]
  },
  {
   "cell_type": "markdown",
   "id": "bf1b5d04",
   "metadata": {},
   "source": [
    "###  Load Trained model"
   ]
  },
  {
   "cell_type": "code",
   "execution_count": null,
   "id": "00a234cc",
   "metadata": {},
   "outputs": [],
   "source": [
    "prototxtPath = \"deploy.prototxt.txt\"\n",
    "weightsPath = \"res10_300x300_ssd_iter_140000.caffemodel\"\n",
    "faceNet = cv2.dnn.readNet(prototxtPath, weightsPath)\n",
    "maskNet = load_model(\"mask_detector.model\")\n"
   ]
  },
  {
   "cell_type": "markdown",
   "id": "ce826cfd",
   "metadata": {},
   "source": [
    "### Starting VideoStream and Detecting  "
   ]
  },
  {
   "cell_type": "code",
   "execution_count": null,
   "id": "e85a8cac",
   "metadata": {},
   "outputs": [],
   "source": [
    "print(\" Starting video stream...\")\n",
    "vs = VideoStream(src=0).start()\n",
    "\n",
    "# loop over the frames from the video stream\n",
    "while True:\n",
    "\n",
    "    frame = vs.read()\n",
    "    frame = imutils.resize(frame, width=400)\n",
    "\n",
    "\n",
    "    (locs, preds) = detect_and_predict_mask(frame, faceNet, maskNet)\n",
    "    for (box, pred) in zip(locs, preds):\n",
    "\n",
    "        (startX, startY, endX, endY) = box\n",
    "        (mask, withoutMask) = pred\n",
    "        label = \"Mask\" if mask > withoutMask else \"No Mask\"\n",
    "        color = (0, 255, 0) if label == \"Mask\" else (0, 0, 255)\n",
    "\n",
    "      \n",
    "        label = \"{}: {:.2f}%\".format(label, max(mask, withoutMask) * 100)\n",
    "\n",
    "        cv2.putText(frame, label, (startX, startY - 10),\n",
    "                    cv2.FONT_HERSHEY_SIMPLEX, 0.45, color, 2)\n",
    "        cv2.rectangle(frame, (startX, startY), (endX, endY), color, 2)\n",
    "\n",
    "   # show the output frame\n",
    "    cv2.imshow(\"Frame\", frame)\n",
    "    key = cv2.waitKey(1) & 0xFF\n",
    "   # if the `esc` key was pressed, break from the loop\n",
    "    if key == 27 :\n",
    "        break\n",
    "# do a bit of cleanup\n",
    "cv2.destroyAllWindows()\n",
    "vs.stop()"
   ]
  }
 ],
 "metadata": {
  "kernelspec": {
   "display_name": "Python 3",
   "language": "python",
   "name": "python3"
  },
  "language_info": {
   "codemirror_mode": {
    "name": "ipython",
    "version": 3
   },
   "file_extension": ".py",
   "mimetype": "text/x-python",
   "name": "python",
   "nbconvert_exporter": "python",
   "pygments_lexer": "ipython3",
   "version": "3.8.8"
  }
 },
 "nbformat": 4,
 "nbformat_minor": 5
}
