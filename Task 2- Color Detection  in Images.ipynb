{
 "cells": [
  {
   "cell_type": "markdown",
   "id": "887b52e3",
   "metadata": {},
   "source": [
    "#                                  #GRIPAUGUST21\n",
    "        \n",
    "##                                 THE SPARKS FOUNDATION\n",
    "\n",
    "###                                           TASK-2 COLOR DETECTION IN IMAGES\n",
    "\n",
    "###                                              Submitted by - VIGNESH C"
   ]
  },
  {
   "cell_type": "markdown",
   "id": "fcc7c67d",
   "metadata": {},
   "source": [
    "###  Import Libaries"
   ]
  },
  {
   "cell_type": "code",
   "execution_count": 1,
   "id": "b58d6f89",
   "metadata": {},
   "outputs": [],
   "source": [
    "import pandas\n",
    "import cv2"
   ]
  },
  {
   "cell_type": "code",
   "execution_count": 2,
   "id": "7c9dc88a",
   "metadata": {},
   "outputs": [],
   "source": [
    "img_path='test_image_2.jpg'\n",
    "csv_path='colors.csv'"
   ]
  },
  {
   "cell_type": "code",
   "execution_count": 3,
   "id": "01a3ee4c",
   "metadata": {},
   "outputs": [],
   "source": [
    "index=[\"color\",\"color_name\",\"hex\",\"R\",\"G\",\"B\"]\n",
    "df=pandas.read_csv(csv_path,names=index,header=None)"
   ]
  },
  {
   "cell_type": "code",
   "execution_count": 4,
   "id": "fb66099b",
   "metadata": {},
   "outputs": [],
   "source": [
    "img=cv2.imread(img_path)\n",
    "img=cv2.resize(img,(800,700))"
   ]
  },
  {
   "cell_type": "code",
   "execution_count": 5,
   "id": "83e0e19e",
   "metadata": {},
   "outputs": [],
   "source": [
    "clicked = False\n",
    "r=g=b=xpos=ypos=0"
   ]
  },
  {
   "cell_type": "code",
   "execution_count": 6,
   "id": "49df0b87",
   "metadata": {},
   "outputs": [],
   "source": [
    "def get_color_name (R,G,B):\n",
    "    minimum = 10000\n",
    "    for v in range (len(df)):\n",
    "        r= abs(R-int(df.loc[v,\"R\"]))+ abs(G-int(df.loc[v,\"G\"]))+ abs(B-int(df.loc[v,\"B\"]))\n",
    "        if (r <=minimum):\n",
    "            minimum=r\n",
    "            name=df.loc[v,\"color_name\"]\n",
    "    return name"
   ]
  },
  {
   "cell_type": "code",
   "execution_count": 7,
   "id": "d48da12e",
   "metadata": {},
   "outputs": [],
   "source": [
    "def draw_function(event,x,y,flags,params):\n",
    "    if event==cv2.EVENT_LBUTTONDBLCLK:\n",
    "        global b,g,r,xpos,ypos,clicked\n",
    "        clicked=True\n",
    "        xpos=x\n",
    "        ypos=y\n",
    "        b,g,r=img[y,x]\n",
    "        b=int(b)\n",
    "        g=int(g)\n",
    "        r=int(r)"
   ]
  },
  {
   "cell_type": "code",
   "execution_count": 8,
   "id": "dcca14d4",
   "metadata": {},
   "outputs": [],
   "source": [
    "cv2.namedWindow('image')\n",
    "cv2.setMouseCallback('image',draw_function)"
   ]
  },
  {
   "cell_type": "markdown",
   "id": "1b48f834",
   "metadata": {},
   "source": [
    "###   Displaying Output "
   ]
  },
  {
   "cell_type": "code",
   "execution_count": 9,
   "id": "66ab1694",
   "metadata": {},
   "outputs": [],
   "source": [
    "while True:\n",
    "    cv2.imshow(\"image\",img)\n",
    "    if clicked:\n",
    "        cv2.rectangle(img,(20,20),(650,60),(b,g,r),-1)\n",
    "        text=get_color_name(r,g,b)+' R='+str(r)+'G='+str(g)+'B='+str(b)\n",
    "        cv2.putText(img,text,(50,50),2,0.8,(255,255,255),2,cv2.LINE_AA)\n",
    "        if r+g+b>=600:\n",
    "            cv2.putText(img,text,(50,50),2,0.8,(0,0,0),2,cv2.LINE_AA)\n",
    "    \n",
    "    if cv2.waitKey(20) & 0xFF == 27:\n",
    "        break\n",
    "cv2.destroyAllWindows()"
   ]
  }
 ],
 "metadata": {
  "kernelspec": {
   "display_name": "Python 3",
   "language": "python",
   "name": "python3"
  },
  "language_info": {
   "codemirror_mode": {
    "name": "ipython",
    "version": 3
   },
   "file_extension": ".py",
   "mimetype": "text/x-python",
   "name": "python",
   "nbconvert_exporter": "python",
   "pygments_lexer": "ipython3",
   "version": "3.8.8"
  }
 },
 "nbformat": 4,
 "nbformat_minor": 5
}
